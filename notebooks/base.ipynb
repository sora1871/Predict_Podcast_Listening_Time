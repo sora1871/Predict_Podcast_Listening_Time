{
 "cells": [
  {
   "cell_type": "code",
   "execution_count": 1,
   "id": "c0c63781",
   "metadata": {},
   "outputs": [],
   "source": [
    "import numpy as np\n",
    "import pandas as pd\n",
    "import gc\n",
    "import pickle\n",
    "import os\n",
    "import datetime as dt\n",
    "\n",
    "#plot\n",
    "import matplotlib.pyplot as plt\n",
    "\n",
    "#LightGBM\n",
    "import lightgbm as lgb\n",
    "\n",
    "#sklearn\n",
    "from sklearn.metrics import roc_auc_score\n",
    "from sklearn.model_selection import StratifiedGroupKFold\n",
    "from sklearn.preprocessing import OneHotEncoder,LabelEncoder\n",
    "from sklearn.metrics import mean_absolute_error\n",
    "\n",
    "import warnings\n",
    "warnings.filterwarnings('ignore')\n",
    "\n",
    "#表示桁数の指定\n",
    "pd.options.display.float_format = '{:.4f}'.format\n",
    "\n",
    "import pandas as pd\n",
    "from sklearn.model_selection import train_test_split\n",
    "from sklearn.linear_model import LogisticRegression\n",
    "from sklearn.metrics import accuracy_score, classification_report, confusion_matrix\n"
   ]
  },
  {
   "cell_type": "code",
   "execution_count": 2,
   "id": "263d5189",
   "metadata": {},
   "outputs": [],
   "source": [
    "import sys\n",
    "import pandas as pd\n",
    "import importlib\n",
    "\n",
    "# scripts フォルダをパスに追加\n",
    "sys.path.append(\"../scripts\")\n",
    "\n",
    "# utils モジュールをインポート & 再読み込み\n",
    "import utils\n",
    "importlib.reload(utils)\n",
    "from utils import reduce_mem_usage\n",
    "\n",
    "# basic_feature モジュールをインポート & 再読み込み\n",
    "import basic_feature\n",
    "importlib.reload(basic_feature)\n",
    "from basic_feature import preprocess_features\n",
    "\n",
    "#feature_isna モジュールをインポート＆読み込み\n",
    "import feature_isna\n",
    "importlib.reload(feature_isna)\n",
    "from feature_isna import handle_missing_values\n",
    "\n",
    "import train_runner\n",
    "importlib.reload(train_runner)\n",
    "from train_runner import run_baseline_training\n",
    "\n",
    "import train\n",
    "importlib.reload(train)\n",
    "from train import train_lgb_regression\n"
   ]
  },
  {
   "cell_type": "code",
   "execution_count": 5,
   "id": "00ddcd97",
   "metadata": {},
   "outputs": [
    {
     "ename": "ImportError",
     "evalue": "cannot import name 'create_train_data' from 'basic_feature' (c:\\Users\\21td031\\Documents\\python\\prc_kaggle\\Predict_Podcast_Listening_Time\\notebooks\\../scripts\\basic_feature.py)",
     "output_type": "error",
     "traceback": [
      "\u001b[1;31m---------------------------------------------------------------------------\u001b[0m",
      "\u001b[1;31mImportError\u001b[0m                               Traceback (most recent call last)",
      "Cell \u001b[1;32mIn[5], line 1\u001b[0m\n\u001b[1;32m----> 1\u001b[0m \u001b[38;5;28;01mfrom\u001b[39;00m\u001b[38;5;250m \u001b[39m\u001b[38;5;21;01mbasic_feature\u001b[39;00m\u001b[38;5;250m \u001b[39m\u001b[38;5;28;01mimport\u001b[39;00m create_train_data\n\u001b[0;32m      3\u001b[0m x_train, y_train, id_train \u001b[38;5;241m=\u001b[39m create_train_data()\n\u001b[0;32m      4\u001b[0m train_oof, imp, metrics \u001b[38;5;241m=\u001b[39m run_baseline_training(x_train, y_train, id_train)\n",
      "\u001b[1;31mImportError\u001b[0m: cannot import name 'create_train_data' from 'basic_feature' (c:\\Users\\21td031\\Documents\\python\\prc_kaggle\\Predict_Podcast_Listening_Time\\notebooks\\../scripts\\basic_feature.py)"
     ]
    }
   ],
   "source": [
    "from basic_feature import create_train_data\n",
    "\n",
    "x_train, y_train, id_train = create_train_data()\n",
    "train_oof, imp, metrics = run_baseline_training(x_train, y_train, id_train)\n"
   ]
  },
  {
   "cell_type": "code",
   "execution_count": null,
   "id": "fea2b183",
   "metadata": {},
   "outputs": [
    {
     "ename": "NameError",
     "evalue": "name 'X_train' is not defined",
     "output_type": "error",
     "traceback": [
      "\u001b[1;31m---------------------------------------------------------------------------\u001b[0m",
      "\u001b[1;31mNameError\u001b[0m                                 Traceback (most recent call last)",
      "Cell \u001b[1;32mIn[4], line 2\u001b[0m\n\u001b[0;32m      1\u001b[0m model, oof_df, feature_importance_df \u001b[38;5;241m=\u001b[39m run_baseline_training(\n\u001b[1;32m----> 2\u001b[0m     \u001b[43mX_train\u001b[49m,\n\u001b[0;32m      3\u001b[0m     y_train,\n\u001b[0;32m      4\u001b[0m     id_train,\n\u001b[0;32m      5\u001b[0m     save_dir\u001b[38;5;241m=\u001b[39m\u001b[38;5;124m\"\u001b[39m\u001b[38;5;124m../model\u001b[39m\u001b[38;5;124m\"\u001b[39m  \u001b[38;5;66;03m# モデル保存先を指定\u001b[39;00m\n\u001b[0;32m      6\u001b[0m )\n",
      "\u001b[1;31mNameError\u001b[0m: name 'X_train' is not defined"
     ]
    }
   ],
   "source": []
  },
  {
   "cell_type": "code",
   "execution_count": null,
   "id": "a4c91d20",
   "metadata": {},
   "outputs": [],
   "source": []
  }
 ],
 "metadata": {
  "kernelspec": {
   "display_name": "Python 3",
   "language": "python",
   "name": "python3"
  },
  "language_info": {
   "codemirror_mode": {
    "name": "ipython",
    "version": 3
   },
   "file_extension": ".py",
   "mimetype": "text/x-python",
   "name": "python",
   "nbconvert_exporter": "python",
   "pygments_lexer": "ipython3",
   "version": "3.11.9"
  }
 },
 "nbformat": 4,
 "nbformat_minor": 5
}
