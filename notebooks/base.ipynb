{
 "cells": [
  {
   "cell_type": "code",
   "execution_count": 7,
   "id": "c0c63781",
   "metadata": {},
   "outputs": [],
   "source": [
    "import numpy as np\n",
    "import pandas as pd\n",
    "import gc\n",
    "import pickle\n",
    "import os\n",
    "import datetime as dt\n",
    "\n",
    "#plot\n",
    "import matplotlib.pyplot as plt\n",
    "\n",
    "#LightGBM\n",
    "import lightgbm as lgb\n",
    "\n",
    "#sklearn\n",
    "from sklearn.metrics import roc_auc_score\n",
    "from sklearn.model_selection import StratifiedGroupKFold\n",
    "from sklearn.preprocessing import OneHotEncoder,LabelEncoder\n",
    "from sklearn.metrics import mean_absolute_error\n",
    "\n",
    "import warnings\n",
    "warnings.filterwarnings('ignore')\n",
    "\n",
    "#表示桁数の指定\n",
    "pd.options.display.float_format = '{:.4f}'.format\n",
    "\n",
    "import pandas as pd\n",
    "from sklearn.model_selection import train_test_split\n",
    "from sklearn.linear_model import LogisticRegression\n",
    "from sklearn.metrics import accuracy_score, classification_report, confusion_matrix\n"
   ]
  },
  {
   "cell_type": "code",
   "execution_count": 11,
   "id": "263d5189",
   "metadata": {},
   "outputs": [],
   "source": [
    "import sys\n",
    "import pandas as pd\n",
    "import importlib\n",
    "\n",
    "\n",
    "# scripts フォルダをパスに追加\n",
    "sys.path.append(\"../scripts\")\n",
    "\n",
    "# utils モジュールをインポート & 再読み込み\n",
    "import utils\n",
    "importlib.reload(utils)\n",
    "from utils import reduce_mem_usage\n",
    "\n",
    "# basic_feature モジュールをインポート & 再読み込み\n",
    "import basic_feature\n",
    "importlib.reload(basic_feature)\n",
    "from basic_feature import preprocess_features\n",
    "\n",
    "#feature_isna モジュールをインポート＆読み込み\n",
    "import feature_isna\n",
    "importlib.reload(feature_isna)\n",
    "from feature_isna import handle_missing_values\n",
    "\n",
    "import train_runner\n",
    "importlib.reload(train_runner)\n",
    "from train_runner import run_baseline_training\n",
    "\n",
    "import train\n",
    "importlib.reload(train)\n",
    "from train import train_lgb_regression\n"
   ]
  },
  {
   "cell_type": "code",
   "execution_count": 13,
   "id": "00ddcd97",
   "metadata": {},
   "outputs": [
    {
     "name": "stdout",
     "output_type": "stream",
     "text": [
      "Memory usage decreased from 68.66 MB to 44.35 MB\n",
      "-------------------- Fold 0 --------------------\n",
      "Train shape: (600000, 14), Validation shape: (150000, 14)\n"
     ]
    },
    {
     "ename": "TypeError",
     "evalue": "LGBMRegressor.fit() got an unexpected keyword argument 'early_stopping_rounds'",
     "output_type": "error",
     "traceback": [
      "\u001b[31m---------------------------------------------------------------------------\u001b[39m",
      "\u001b[31mTypeError\u001b[39m                                 Traceback (most recent call last)",
      "\u001b[36mCell\u001b[39m\u001b[36m \u001b[39m\u001b[32mIn[13]\u001b[39m\u001b[32m, line 4\u001b[39m\n\u001b[32m      1\u001b[39m \u001b[38;5;28;01mfrom\u001b[39;00m\u001b[38;5;250m \u001b[39m\u001b[34;01mbasic_feature\u001b[39;00m\u001b[38;5;250m \u001b[39m\u001b[38;5;28;01mimport\u001b[39;00m create_train_data\n\u001b[32m      3\u001b[39m x_train, y_train, id_train = create_train_data()\n\u001b[32m----> \u001b[39m\u001b[32m4\u001b[39m train_oof, imp, metrics = \u001b[43mrun_baseline_training\u001b[49m\u001b[43m(\u001b[49m\u001b[43mx_train\u001b[49m\u001b[43m,\u001b[49m\u001b[43m \u001b[49m\u001b[43my_train\u001b[49m\u001b[43m,\u001b[49m\u001b[43m \u001b[49m\u001b[43mid_train\u001b[49m\u001b[43m)\u001b[49m\n",
      "\u001b[36mFile \u001b[39m\u001b[32mc:\\Users\\21td031\\Documents\\python\\prc_kaggle\\Predict_Podcast_Listening_Time\\notebooks\\../scripts\\train_runner.py:25\u001b[39m, in \u001b[36mrun_baseline_training\u001b[39m\u001b[34m(x_train, y_train, id_train, save_dir)\u001b[39m\n\u001b[32m      9\u001b[39m params = {\n\u001b[32m     10\u001b[39m     \u001b[33m'\u001b[39m\u001b[33mobjective\u001b[39m\u001b[33m'\u001b[39m: \u001b[33m'\u001b[39m\u001b[33mregression\u001b[39m\u001b[33m'\u001b[39m,\n\u001b[32m     11\u001b[39m     \u001b[33m'\u001b[39m\u001b[33mmetric\u001b[39m\u001b[33m'\u001b[39m: \u001b[33m'\u001b[39m\u001b[33mrmse\u001b[39m\u001b[33m'\u001b[39m,\n\u001b[32m   (...)\u001b[39m\u001b[32m     21\u001b[39m     \u001b[33m'\u001b[39m\u001b[33mrandom_state\u001b[39m\u001b[33m'\u001b[39m: \u001b[32m42\u001b[39m\n\u001b[32m     22\u001b[39m }\n\u001b[32m     24\u001b[39m \u001b[38;5;66;03m# 学習関数を呼び出す\u001b[39;00m\n\u001b[32m---> \u001b[39m\u001b[32m25\u001b[39m \u001b[38;5;28;01mreturn\u001b[39;00m \u001b[43mtrain_lgb_regression\u001b[49m\u001b[43m(\u001b[49m\n\u001b[32m     26\u001b[39m \u001b[43m    \u001b[49m\u001b[43mx_train\u001b[49m\u001b[43m,\u001b[49m\n\u001b[32m     27\u001b[39m \u001b[43m    \u001b[49m\u001b[43my_train\u001b[49m\u001b[43m,\u001b[49m\n\u001b[32m     28\u001b[39m \u001b[43m    \u001b[49m\u001b[43mid_train\u001b[49m\u001b[43m,\u001b[49m\n\u001b[32m     29\u001b[39m \u001b[43m    \u001b[49m\u001b[43mparams\u001b[49m\u001b[43m=\u001b[49m\u001b[43mparams\u001b[49m\u001b[43m,\u001b[49m\n\u001b[32m     30\u001b[39m \u001b[43m    \u001b[49m\u001b[43mlist_nfold\u001b[49m\u001b[43m=\u001b[49m\u001b[43m[\u001b[49m\u001b[32;43m0\u001b[39;49m\u001b[43m,\u001b[49m\u001b[43m \u001b[49m\u001b[32;43m1\u001b[39;49m\u001b[43m,\u001b[49m\u001b[43m \u001b[49m\u001b[32;43m2\u001b[39;49m\u001b[43m,\u001b[49m\u001b[43m \u001b[49m\u001b[32;43m3\u001b[39;49m\u001b[43m,\u001b[49m\u001b[43m \u001b[49m\u001b[32;43m4\u001b[39;49m\u001b[43m]\u001b[49m\u001b[43m,\u001b[49m\n\u001b[32m     31\u001b[39m \u001b[43m    \u001b[49m\u001b[43mn_splits\u001b[49m\u001b[43m=\u001b[49m\u001b[32;43m5\u001b[39;49m\u001b[43m,\u001b[49m\n\u001b[32m     32\u001b[39m \u001b[43m    \u001b[49m\u001b[43msave_dir\u001b[49m\u001b[43m=\u001b[49m\u001b[43msave_dir\u001b[49m\n\u001b[32m     33\u001b[39m \u001b[43m\u001b[49m\u001b[43m)\u001b[49m\n",
      "\u001b[36mFile \u001b[39m\u001b[32mc:\\Users\\21td031\\Documents\\python\\prc_kaggle\\Predict_Podcast_Listening_Time\\notebooks\\../scripts\\train.py:33\u001b[39m, in \u001b[36mtrain_lgb_regression\u001b[39m\u001b[34m(input_x, input_y, input_id, params, list_nfold, n_splits, save_dir)\u001b[39m\n\u001b[32m     30\u001b[39m \u001b[38;5;28mprint\u001b[39m(\u001b[33mf\u001b[39m\u001b[33m\"\u001b[39m\u001b[33mTrain shape: \u001b[39m\u001b[38;5;132;01m{\u001b[39;00mx_tr.shape\u001b[38;5;132;01m}\u001b[39;00m\u001b[33m, Validation shape: \u001b[39m\u001b[38;5;132;01m{\u001b[39;00mx_va.shape\u001b[38;5;132;01m}\u001b[39;00m\u001b[33m\"\u001b[39m)\n\u001b[32m     32\u001b[39m model = lgb.LGBMRegressor(**params)\n\u001b[32m---> \u001b[39m\u001b[32m33\u001b[39m \u001b[43mmodel\u001b[49m\u001b[43m.\u001b[49m\u001b[43mfit\u001b[49m\u001b[43m(\u001b[49m\n\u001b[32m     34\u001b[39m \u001b[43m    \u001b[49m\u001b[43mx_tr\u001b[49m\u001b[43m,\u001b[49m\u001b[43m \u001b[49m\u001b[43my_tr\u001b[49m\u001b[43m,\u001b[49m\n\u001b[32m     35\u001b[39m \u001b[43m    \u001b[49m\u001b[43meval_set\u001b[49m\u001b[43m=\u001b[49m\u001b[43m[\u001b[49m\u001b[43m(\u001b[49m\u001b[43mx_tr\u001b[49m\u001b[43m,\u001b[49m\u001b[43m \u001b[49m\u001b[43my_tr\u001b[49m\u001b[43m)\u001b[49m\u001b[43m,\u001b[49m\u001b[43m \u001b[49m\u001b[43m(\u001b[49m\u001b[43mx_va\u001b[49m\u001b[43m,\u001b[49m\u001b[43m \u001b[49m\u001b[43my_va\u001b[49m\u001b[43m)\u001b[49m\u001b[43m]\u001b[49m\u001b[43m,\u001b[49m\n\u001b[32m     36\u001b[39m \u001b[43m    \u001b[49m\u001b[43mearly_stopping_rounds\u001b[49m\u001b[43m=\u001b[49m\u001b[32;43m100\u001b[39;49m\u001b[43m,\u001b[49m\n\u001b[32m     37\u001b[39m \u001b[43m    \u001b[49m\u001b[43mverbose\u001b[49m\u001b[43m=\u001b[49m\u001b[32;43m100\u001b[39;49m\n\u001b[32m     38\u001b[39m \u001b[43m\u001b[49m\u001b[43m)\u001b[49m\n\u001b[32m     40\u001b[39m fname_lgb = os.path.join(save_dir, \u001b[33mf\u001b[39m\u001b[33m\"\u001b[39m\u001b[33mmodel_lgb_fold\u001b[39m\u001b[38;5;132;01m{\u001b[39;00mnfold\u001b[38;5;132;01m}\u001b[39;00m\u001b[33m.joblib\u001b[39m\u001b[33m\"\u001b[39m)\n\u001b[32m     41\u001b[39m joblib.dump(model, fname_lgb)\n",
      "\u001b[31mTypeError\u001b[39m: LGBMRegressor.fit() got an unexpected keyword argument 'early_stopping_rounds'"
     ]
    }
   ],
   "source": [
    "from basic_feature import create_train_data\n",
    "\n",
    "x_train, y_train, id_train = create_train_data()\n",
    "train_oof, imp, metrics = run_baseline_training(x_train, y_train, id_train)\n"
   ]
  },
  {
   "cell_type": "code",
   "execution_count": null,
   "id": "fea2b183",
   "metadata": {},
   "outputs": [],
   "source": []
  },
  {
   "cell_type": "code",
   "execution_count": null,
   "id": "a4c91d20",
   "metadata": {},
   "outputs": [],
   "source": []
  }
 ],
 "metadata": {
  "kernelspec": {
   "display_name": "venv312",
   "language": "python",
   "name": "python3"
  },
  "language_info": {
   "codemirror_mode": {
    "name": "ipython",
    "version": 3
   },
   "file_extension": ".py",
   "mimetype": "text/x-python",
   "name": "python",
   "nbconvert_exporter": "python",
   "pygments_lexer": "ipython3",
   "version": "3.12.0"
  }
 },
 "nbformat": 4,
 "nbformat_minor": 5
}
