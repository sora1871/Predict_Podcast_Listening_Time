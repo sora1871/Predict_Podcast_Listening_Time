{
 "cells": [
  {
   "cell_type": "code",
   "execution_count": 4,
   "id": "c0c63781",
   "metadata": {},
   "outputs": [],
   "source": [
    "import numpy as np\n",
    "import pandas as pd\n",
    "import gc\n",
    "import pickle\n",
    "import os\n",
    "import datetime as dt\n",
    "\n",
    "#plot\n",
    "import matplotlib.pyplot as plt\n",
    "\n",
    "#LightGBM\n",
    "import lightgbm as lgb\n",
    "\n",
    "#sklearn\n",
    "from sklearn.metrics import roc_auc_score\n",
    "from sklearn.model_selection import StratifiedGroupKFold\n",
    "from sklearn.preprocessing import OneHotEncoder,LabelEncoder\n",
    "from sklearn.metrics import mean_absolute_error\n",
    "\n",
    "import warnings\n",
    "warnings.filterwarnings('ignore')\n",
    "\n",
    "#表示桁数の指定\n",
    "pd.options.display.float_format = '{:.4f}'.format\n",
    "\n",
    "import pandas as pd\n",
    "from sklearn.model_selection import train_test_split\n",
    "from sklearn.linear_model import LogisticRegression\n",
    "from sklearn.metrics import accuracy_score, classification_report, confusion_matrix\n"
   ]
  },
  {
   "cell_type": "code",
   "execution_count": null,
   "id": "263d5189",
   "metadata": {},
   "outputs": [],
   "source": [
    "import sys\n",
    "import pandas as pd\n",
    "import importlib\n",
    "\n",
    "# scripts フォルダをパスに追加\n",
    "sys.path.append(\"../scripts\")\n",
    "\n",
    "# utils モジュールをインポート & 再読み込み\n",
    "import utils\n",
    "importlib.reload(utils)\n",
    "from utils import reduce_mem_usage\n",
    "\n",
    "# basic_feature モジュールをインポート & 再読み込み\n",
    "import basic_feature\n",
    "importlib.reload(basic_feature)\n",
    "from basic_feature import preprocess_features\n",
    "\n",
    "#feature_isna モジュールをインポート＆読み込み\n",
    "import feature_isna\n",
    "importlib.reload(feature_isna)\n",
    "from feature_isna import handle_missing_values\n",
    "\n",
    "import train_runner\n",
    "importlib.reload(train_runner)\n",
    "from train_runner import run_baseline_training\n",
    "\n",
    "import train\n",
    "importlib.reload(train)\n",
    "from train import train_lgb_regression\n"
   ]
  },
  {
   "cell_type": "code",
   "execution_count": 3,
   "id": "00ddcd97",
   "metadata": {},
   "outputs": [
    {
     "name": "stdout",
     "output_type": "stream",
     "text": [
      "Memory usage decreased from 68.66 MB to 44.35 MB\n"
     ]
    }
   ],
   "source": [
    "# 使用例\n",
    "train = pd.read_csv(\"../data/train.csv\")\n",
    "train = reduce_mem_usage(train)\n",
    "train = preprocess_features(train)"
   ]
  },
  {
   "cell_type": "code",
   "execution_count": null,
   "id": "fea2b183",
   "metadata": {},
   "outputs": [],
   "source": []
  }
 ],
 "metadata": {
  "kernelspec": {
   "display_name": "Python 3",
   "language": "python",
   "name": "python3"
  },
  "language_info": {
   "codemirror_mode": {
    "name": "ipython",
    "version": 3
   },
   "file_extension": ".py",
   "mimetype": "text/x-python",
   "name": "python",
   "nbconvert_exporter": "python",
   "pygments_lexer": "ipython3",
   "version": "3.11.9"
  }
 },
 "nbformat": 4,
 "nbformat_minor": 5
}
